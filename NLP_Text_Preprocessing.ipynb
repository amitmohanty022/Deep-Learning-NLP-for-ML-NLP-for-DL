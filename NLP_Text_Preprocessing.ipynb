{
  "nbformat": 4,
  "nbformat_minor": 0,
  "metadata": {
    "colab": {
      "provenance": []
    },
    "kernelspec": {
      "name": "python3",
      "display_name": "Python 3"
    },
    "language_info": {
      "name": "python"
    }
  },
  "cells": [
    {
      "cell_type": "code",
      "execution_count": 10,
      "metadata": {
        "colab": {
          "base_uri": "https://localhost:8080/"
        },
        "id": "PWcYqfXZpib7",
        "outputId": "19497b5a-8337-4e32-e2ac-6078a1b33a8a"
      },
      "outputs": [
        {
          "output_type": "stream",
          "name": "stdout",
          "text": [
            "Requirement already satisfied: nltk in /usr/local/lib/python3.11/dist-packages (3.9.1)\n",
            "Requirement already satisfied: click in /usr/local/lib/python3.11/dist-packages (from nltk) (8.1.8)\n",
            "Requirement already satisfied: joblib in /usr/local/lib/python3.11/dist-packages (from nltk) (1.4.2)\n",
            "Requirement already satisfied: regex>=2021.8.3 in /usr/local/lib/python3.11/dist-packages (from nltk) (2024.11.6)\n",
            "Requirement already satisfied: tqdm in /usr/local/lib/python3.11/dist-packages (from nltk) (4.67.1)\n"
          ]
        }
      ],
      "source": [
        "pip install nltk"
      ]
    },
    {
      "cell_type": "code",
      "source": [
        "# importing libraries\n",
        "import nltk\n",
        "from nltk.stem import PorterStemmer\n",
        "from nltk.corpus import stopwords"
      ],
      "metadata": {
        "id": "Ak9EpFsasz6r"
      },
      "execution_count": 13,
      "outputs": []
    },
    {
      "cell_type": "code",
      "source": [
        "pip install --upgrade --force-reinstall nltk\n"
      ],
      "metadata": {
        "colab": {
          "base_uri": "https://localhost:8080/",
          "height": 939
        },
        "id": "8Ufm90qstgXA",
        "outputId": "f1e17b87-e2ae-4ec3-d08c-26174a8bbfba"
      },
      "execution_count": 16,
      "outputs": [
        {
          "output_type": "stream",
          "name": "stdout",
          "text": [
            "Collecting nltk\n",
            "  Downloading nltk-3.9.1-py3-none-any.whl.metadata (2.9 kB)\n",
            "Collecting click (from nltk)\n",
            "  Downloading click-8.1.8-py3-none-any.whl.metadata (2.3 kB)\n",
            "Collecting joblib (from nltk)\n",
            "  Downloading joblib-1.4.2-py3-none-any.whl.metadata (5.4 kB)\n",
            "Collecting regex>=2021.8.3 (from nltk)\n",
            "  Downloading regex-2024.11.6-cp311-cp311-manylinux_2_17_x86_64.manylinux2014_x86_64.whl.metadata (40 kB)\n",
            "\u001b[2K     \u001b[90m━━━━━━━━━━━━━━━━━━━━━━━━━━━━━━━━━━━━━━━━\u001b[0m \u001b[32m40.5/40.5 kB\u001b[0m \u001b[31m1.5 MB/s\u001b[0m eta \u001b[36m0:00:00\u001b[0m\n",
            "\u001b[?25hCollecting tqdm (from nltk)\n",
            "  Downloading tqdm-4.67.1-py3-none-any.whl.metadata (57 kB)\n",
            "\u001b[2K     \u001b[90m━━━━━━━━━━━━━━━━━━━━━━━━━━━━━━━━━━━━━━━━\u001b[0m \u001b[32m57.7/57.7 kB\u001b[0m \u001b[31m2.4 MB/s\u001b[0m eta \u001b[36m0:00:00\u001b[0m\n",
            "\u001b[?25hDownloading nltk-3.9.1-py3-none-any.whl (1.5 MB)\n",
            "\u001b[2K   \u001b[90m━━━━━━━━━━━━━━━━━━━━━━━━━━━━━━━━━━━━━━━━\u001b[0m \u001b[32m1.5/1.5 MB\u001b[0m \u001b[31m25.9 MB/s\u001b[0m eta \u001b[36m0:00:00\u001b[0m\n",
            "\u001b[?25hDownloading regex-2024.11.6-cp311-cp311-manylinux_2_17_x86_64.manylinux2014_x86_64.whl (792 kB)\n",
            "\u001b[2K   \u001b[90m━━━━━━━━━━━━━━━━━━━━━━━━━━━━━━━━━━━━━━━━\u001b[0m \u001b[32m792.7/792.7 kB\u001b[0m \u001b[31m40.5 MB/s\u001b[0m eta \u001b[36m0:00:00\u001b[0m\n",
            "\u001b[?25hDownloading click-8.1.8-py3-none-any.whl (98 kB)\n",
            "\u001b[2K   \u001b[90m━━━━━━━━━━━━━━━━━━━━━━━━━━━━━━━━━━━━━━━━\u001b[0m \u001b[32m98.2/98.2 kB\u001b[0m \u001b[31m6.7 MB/s\u001b[0m eta \u001b[36m0:00:00\u001b[0m\n",
            "\u001b[?25hDownloading joblib-1.4.2-py3-none-any.whl (301 kB)\n",
            "\u001b[2K   \u001b[90m━━━━━━━━━━━━━━━━━━━━━━━━━━━━━━━━━━━━━━━━\u001b[0m \u001b[32m301.8/301.8 kB\u001b[0m \u001b[31m18.8 MB/s\u001b[0m eta \u001b[36m0:00:00\u001b[0m\n",
            "\u001b[?25hDownloading tqdm-4.67.1-py3-none-any.whl (78 kB)\n",
            "\u001b[2K   \u001b[90m━━━━━━━━━━━━━━━━━━━━━━━━━━━━━━━━━━━━━━━━\u001b[0m \u001b[32m78.5/78.5 kB\u001b[0m \u001b[31m5.2 MB/s\u001b[0m eta \u001b[36m0:00:00\u001b[0m\n",
            "\u001b[?25hInstalling collected packages: tqdm, regex, joblib, click, nltk\n",
            "  Attempting uninstall: tqdm\n",
            "    Found existing installation: tqdm 4.67.1\n",
            "    Uninstalling tqdm-4.67.1:\n",
            "      Successfully uninstalled tqdm-4.67.1\n",
            "  Attempting uninstall: regex\n",
            "    Found existing installation: regex 2024.11.6\n",
            "    Uninstalling regex-2024.11.6:\n",
            "      Successfully uninstalled regex-2024.11.6\n",
            "  Attempting uninstall: joblib\n",
            "    Found existing installation: joblib 1.4.2\n",
            "    Uninstalling joblib-1.4.2:\n",
            "      Successfully uninstalled joblib-1.4.2\n",
            "  Attempting uninstall: click\n",
            "    Found existing installation: click 8.1.8\n",
            "    Uninstalling click-8.1.8:\n",
            "      Successfully uninstalled click-8.1.8\n",
            "  Attempting uninstall: nltk\n",
            "    Found existing installation: nltk 3.9.1\n",
            "    Uninstalling nltk-3.9.1:\n",
            "      Successfully uninstalled nltk-3.9.1\n",
            "Successfully installed click-8.1.8 joblib-1.4.2 nltk-3.9.1 regex-2024.11.6 tqdm-4.67.1\n"
          ]
        },
        {
          "output_type": "display_data",
          "data": {
            "application/vnd.colab-display-data+json": {
              "pip_warning": {
                "packages": [
                  "joblib",
                  "nltk",
                  "regex"
                ]
              },
              "id": "0909bb3892ce4a379ac619f4655e1412"
            }
          },
          "metadata": {}
        }
      ]
    },
    {
      "cell_type": "markdown",
      "source": [
        "Tokenization -- Converts paragrgh into sentences- words"
      ],
      "metadata": {
        "id": "kzlz8xbXv-Lf"
      }
    },
    {
      "cell_type": "code",
      "source": [
        "import nltk\n",
        "from nltk.stem import PorterStemmer\n",
        "from nltk.corpus import stopwords\n",
        "nltk.download('punkt')\n",
        "sentences = nltk.sent_tokenize(paragraph)"
      ],
      "metadata": {
        "colab": {
          "base_uri": "https://localhost:8080/"
        },
        "id": "dPHgzMo9t8Og",
        "outputId": "a6b3e110-813b-4bff-fba8-5587e278a9ed"
      },
      "execution_count": 9,
      "outputs": [
        {
          "output_type": "stream",
          "name": "stderr",
          "text": [
            "[nltk_data] Downloading package punkt to /root/nltk_data...\n",
            "[nltk_data]   Package punkt is already up-to-date!\n"
          ]
        }
      ]
    },
    {
      "cell_type": "code",
      "source": [
        "paragraph = \"Formula 1 (F1) cars are high-performance, single-seater racing machines built for extreme speed and agility. They are powered by hybrid turbocharged V6 engines, producing over 1,000 horsepower, and can accelerate from 0 to 100 km/h in just 2.5 seconds. The aerodynamics, including wings and diffusers, generate massive downforce, allowing for better grip and cornering at high speeds. Made from advanced carbon fiber materials, F1 cars are both lightweight and incredibly strong, ensuring driver safety. The Drag Reduction System (DRS) helps improve overtaking by reducing aerodynamic drag. Each car is equipped with over 300 sensors, providing real-time data to engineers for performance optimization. F1 races, known as Grand Prix events, take place on various tracks worldwide, from dedicated race circuits to challenging street circuits. The FIA strictly regulates the sport, enforcing rules on fuel usage, tire compounds, and car dimensions. Teams like Ferrari, Mercedes, and Red Bull invest millions in research and development to create the fastest and most efficient cars each season. This relentless pursuit of speed and technology makes F1 one of the most exciting and competitive motorsports in the world. 🚀🏎️\""
      ],
      "metadata": {
        "id": "17aGlQyUt9oG"
      },
      "execution_count": 8,
      "outputs": []
    },
    {
      "cell_type": "code",
      "source": [
        "import nltk\n",
        "nltk.download('punkt_tab')"
      ],
      "metadata": {
        "colab": {
          "base_uri": "https://localhost:8080/"
        },
        "id": "YxF6Z1fhvmWt",
        "outputId": "2c9fc3b9-b4d8-40ea-981a-209c80517064"
      },
      "execution_count": 7,
      "outputs": [
        {
          "output_type": "stream",
          "name": "stderr",
          "text": [
            "[nltk_data] Downloading package punkt_tab to /root/nltk_data...\n",
            "[nltk_data]   Unzipping tokenizers/punkt_tab.zip.\n"
          ]
        },
        {
          "output_type": "execute_result",
          "data": {
            "text/plain": [
              "True"
            ]
          },
          "metadata": {},
          "execution_count": 7
        }
      ]
    },
    {
      "cell_type": "code",
      "source": [
        "sentences"
      ],
      "metadata": {
        "colab": {
          "base_uri": "https://localhost:8080/"
        },
        "id": "1-1OSs5fvtLe",
        "outputId": "7419bfdd-b8a5-442d-9f58-8d3ec0d2f177"
      },
      "execution_count": 10,
      "outputs": [
        {
          "output_type": "execute_result",
          "data": {
            "text/plain": [
              "['Formula 1 (F1) cars are high-performance, single-seater racing machines built for extreme speed and agility.',\n",
              " 'They are powered by hybrid turbocharged V6 engines, producing over 1,000 horsepower, and can accelerate from 0 to 100 km/h in just 2.5 seconds.',\n",
              " 'The aerodynamics, including wings and diffusers, generate massive downforce, allowing for better grip and cornering at high speeds.',\n",
              " 'Made from advanced carbon fiber materials, F1 cars are both lightweight and incredibly strong, ensuring driver safety.',\n",
              " 'The Drag Reduction System (DRS) helps improve overtaking by reducing aerodynamic drag.',\n",
              " 'Each car is equipped with over 300 sensors, providing real-time data to engineers for performance optimization.',\n",
              " 'F1 races, known as Grand Prix events, take place on various tracks worldwide, from dedicated race circuits to challenging street circuits.',\n",
              " 'The FIA strictly regulates the sport, enforcing rules on fuel usage, tire compounds, and car dimensions.',\n",
              " 'Teams like Ferrari, Mercedes, and Red Bull invest millions in research and development to create the fastest and most efficient cars each season.',\n",
              " 'This relentless pursuit of speed and technology makes F1 one of the most exciting and competitive motorsports in the world.',\n",
              " '🚀🏎️']"
            ]
          },
          "metadata": {},
          "execution_count": 10
        }
      ]
    },
    {
      "cell_type": "code",
      "source": [
        "type(sentences)"
      ],
      "metadata": {
        "colab": {
          "base_uri": "https://localhost:8080/"
        },
        "id": "QlLlWOTWwQ_K",
        "outputId": "99c5370d-9d8f-4b1d-912e-31f964b9ef87"
      },
      "execution_count": 11,
      "outputs": [
        {
          "output_type": "execute_result",
          "data": {
            "text/plain": [
              "list"
            ]
          },
          "metadata": {},
          "execution_count": 11
        }
      ]
    },
    {
      "cell_type": "markdown",
      "source": [
        "Stemming"
      ],
      "metadata": {
        "id": "8e3K9Lwswn6x"
      }
    },
    {
      "cell_type": "code",
      "source": [
        "stemmer = PorterStemmer()"
      ],
      "metadata": {
        "id": "VBJjdER3wZU0"
      },
      "execution_count": 12,
      "outputs": []
    },
    {
      "cell_type": "code",
      "source": [
        "stemmer.stem('logical')"
      ],
      "metadata": {
        "colab": {
          "base_uri": "https://localhost:8080/",
          "height": 36
        },
        "id": "Ylxdy9Xvwshk",
        "outputId": "14f1e865-e5c8-4974-b3e5-24da064eaf25"
      },
      "execution_count": 16,
      "outputs": [
        {
          "output_type": "execute_result",
          "data": {
            "text/plain": [
              "'logic'"
            ],
            "application/vnd.google.colaboratory.intrinsic+json": {
              "type": "string"
            }
          },
          "metadata": {},
          "execution_count": 16
        }
      ]
    },
    {
      "cell_type": "markdown",
      "source": [
        "Lemmetization"
      ],
      "metadata": {
        "id": "qBv0hlluw8jP"
      }
    },
    {
      "cell_type": "code",
      "source": [
        "from nltk.stem import  WordNetLemmatizer\n",
        "import nltk\n",
        "nltk.download('wordnet')"
      ],
      "metadata": {
        "colab": {
          "base_uri": "https://localhost:8080/"
        },
        "id": "kjh3iDqTw-gc",
        "outputId": "441ddf1f-dc0e-440d-9dc5-ef02fb111084"
      },
      "execution_count": 20,
      "outputs": [
        {
          "output_type": "stream",
          "name": "stderr",
          "text": [
            "[nltk_data] Downloading package wordnet to /root/nltk_data...\n"
          ]
        },
        {
          "output_type": "execute_result",
          "data": {
            "text/plain": [
              "True"
            ]
          },
          "metadata": {},
          "execution_count": 20
        }
      ]
    },
    {
      "cell_type": "code",
      "source": [
        "lemmatizer = WordNetLemmatizer()"
      ],
      "metadata": {
        "id": "7fr-4iTDwvsh"
      },
      "execution_count": 21,
      "outputs": []
    },
    {
      "cell_type": "code",
      "source": [
        "lemmatizer.lemmatize('cars')"
      ],
      "metadata": {
        "colab": {
          "base_uri": "https://localhost:8080/",
          "height": 36
        },
        "id": "QC2ZL01OxHyW",
        "outputId": "771051d5-a7bb-4dc6-a200-53328046533d"
      },
      "execution_count": 22,
      "outputs": [
        {
          "output_type": "execute_result",
          "data": {
            "text/plain": [
              "'car'"
            ],
            "application/vnd.google.colaboratory.intrinsic+json": {
              "type": "string"
            }
          },
          "metadata": {},
          "execution_count": 22
        }
      ]
    },
    {
      "cell_type": "markdown",
      "source": [
        "Clean the entire text."
      ],
      "metadata": {
        "id": "8RebmF6xxg8P"
      }
    },
    {
      "cell_type": "code",
      "source": [
        "len(sentences)"
      ],
      "metadata": {
        "colab": {
          "base_uri": "https://localhost:8080/"
        },
        "id": "AvBQis16xqWl",
        "outputId": "6f49da87-756f-49e4-ecdf-76c581b2fee4"
      },
      "execution_count": 23,
      "outputs": [
        {
          "output_type": "execute_result",
          "data": {
            "text/plain": [
              "11"
            ]
          },
          "metadata": {},
          "execution_count": 23
        }
      ]
    },
    {
      "cell_type": "code",
      "source": [
        "import re\n",
        "corpus =[]\n",
        "for i in range(len(sentences)):\n",
        "  review=  re.sub('[^a-zA-Z]',' ', sentences[i])\n",
        "  review = review.lower()\n",
        "  corpus.append(review)"
      ],
      "metadata": {
        "id": "vLMkjOgLxKnp"
      },
      "execution_count": 24,
      "outputs": []
    },
    {
      "cell_type": "code",
      "source": [
        "corpus"
      ],
      "metadata": {
        "colab": {
          "base_uri": "https://localhost:8080/"
        },
        "id": "dhM2ty8XyPG1",
        "outputId": "83b483ad-dd29-4b60-9974-238b3c91dfd6"
      },
      "execution_count": 25,
      "outputs": [
        {
          "output_type": "execute_result",
          "data": {
            "text/plain": [
              "['formula    f   cars are high performance  single seater racing machines built for extreme speed and agility ',\n",
              " 'they are powered by hybrid turbocharged v  engines  producing over       horsepower  and can accelerate from   to     km h in just     seconds ',\n",
              " 'the aerodynamics  including wings and diffusers  generate massive downforce  allowing for better grip and cornering at high speeds ',\n",
              " 'made from advanced carbon fiber materials  f  cars are both lightweight and incredibly strong  ensuring driver safety ',\n",
              " 'the drag reduction system  drs  helps improve overtaking by reducing aerodynamic drag ',\n",
              " 'each car is equipped with over     sensors  providing real time data to engineers for performance optimization ',\n",
              " 'f  races  known as grand prix events  take place on various tracks worldwide  from dedicated race circuits to challenging street circuits ',\n",
              " 'the fia strictly regulates the sport  enforcing rules on fuel usage  tire compounds  and car dimensions ',\n",
              " 'teams like ferrari  mercedes  and red bull invest millions in research and development to create the fastest and most efficient cars each season ',\n",
              " 'this relentless pursuit of speed and technology makes f  one of the most exciting and competitive motorsports in the world ',\n",
              " '   ']"
            ]
          },
          "metadata": {},
          "execution_count": 25
        }
      ]
    },
    {
      "cell_type": "markdown",
      "source": [
        "All unnessary words are removed"
      ],
      "metadata": {
        "id": "AYzt3EjMySCV"
      }
    },
    {
      "cell_type": "code",
      "source": [
        "#apply steming"
      ],
      "metadata": {
        "id": "gTRWvsBEyQzL"
      },
      "execution_count": 26,
      "outputs": []
    },
    {
      "cell_type": "code",
      "source": [
        "import nltk\n",
        "nltk.download('stopwords')"
      ],
      "metadata": {
        "colab": {
          "base_uri": "https://localhost:8080/"
        },
        "id": "iyWWry9IzDiP",
        "outputId": "e65386a3-17ce-420c-baca-dd8ba707c277"
      },
      "execution_count": 28,
      "outputs": [
        {
          "output_type": "stream",
          "name": "stderr",
          "text": [
            "[nltk_data] Downloading package stopwords to /root/nltk_data...\n",
            "[nltk_data]   Unzipping corpora/stopwords.zip.\n"
          ]
        },
        {
          "output_type": "execute_result",
          "data": {
            "text/plain": [
              "True"
            ]
          },
          "metadata": {},
          "execution_count": 28
        }
      ]
    },
    {
      "cell_type": "code",
      "source": [
        "for i in corpus:\n",
        "  words = nltk.word_tokenize(i)\n",
        "  for word in words:\n",
        "    if word not in set(stopwords.words('english')):\n",
        "      print(stemmer.stem(word))"
      ],
      "metadata": {
        "colab": {
          "base_uri": "https://localhost:8080/"
        },
        "id": "hvbBL6s9yfE9",
        "outputId": "19c54a23-ef65-4a64-ff0d-7188a47270f0"
      },
      "execution_count": 29,
      "outputs": [
        {
          "output_type": "stream",
          "name": "stdout",
          "text": [
            "formula\n",
            "f\n",
            "car\n",
            "high\n",
            "perform\n",
            "singl\n",
            "seater\n",
            "race\n",
            "machin\n",
            "built\n",
            "extrem\n",
            "speed\n",
            "agil\n",
            "power\n",
            "hybrid\n",
            "turbocharg\n",
            "v\n",
            "engin\n",
            "produc\n",
            "horsepow\n",
            "acceler\n",
            "km\n",
            "h\n",
            "second\n",
            "aerodynam\n",
            "includ\n",
            "wing\n",
            "diffus\n",
            "gener\n",
            "massiv\n",
            "downforc\n",
            "allow\n",
            "better\n",
            "grip\n",
            "corner\n",
            "high\n",
            "speed\n",
            "made\n",
            "advanc\n",
            "carbon\n",
            "fiber\n",
            "materi\n",
            "f\n",
            "car\n",
            "lightweight\n",
            "incred\n",
            "strong\n",
            "ensur\n",
            "driver\n",
            "safeti\n",
            "drag\n",
            "reduct\n",
            "system\n",
            "dr\n",
            "help\n",
            "improv\n",
            "overtak\n",
            "reduc\n",
            "aerodynam\n",
            "drag\n",
            "car\n",
            "equip\n",
            "sensor\n",
            "provid\n",
            "real\n",
            "time\n",
            "data\n",
            "engin\n",
            "perform\n",
            "optim\n",
            "f\n",
            "race\n",
            "known\n",
            "grand\n",
            "prix\n",
            "event\n",
            "take\n",
            "place\n",
            "variou\n",
            "track\n",
            "worldwid\n",
            "dedic\n",
            "race\n",
            "circuit\n",
            "challeng\n",
            "street\n",
            "circuit\n",
            "fia\n",
            "strictli\n",
            "regul\n",
            "sport\n",
            "enforc\n",
            "rule\n",
            "fuel\n",
            "usag\n",
            "tire\n",
            "compound\n",
            "car\n",
            "dimens\n",
            "team\n",
            "like\n",
            "ferrari\n",
            "merced\n",
            "red\n",
            "bull\n",
            "invest\n",
            "million\n",
            "research\n",
            "develop\n",
            "creat\n",
            "fastest\n",
            "effici\n",
            "car\n",
            "season\n",
            "relentless\n",
            "pursuit\n",
            "speed\n",
            "technolog\n",
            "make\n",
            "f\n",
            "one\n",
            "excit\n",
            "competit\n",
            "motorsport\n",
            "world\n"
          ]
        }
      ]
    },
    {
      "cell_type": "code",
      "source": [
        "stopwords.words('english')"
      ],
      "metadata": {
        "colab": {
          "base_uri": "https://localhost:8080/"
        },
        "id": "3Cz6RjJQzAw4",
        "outputId": "7204e606-4639-4a69-9a2e-d90ca4a860e8"
      },
      "execution_count": 30,
      "outputs": [
        {
          "output_type": "execute_result",
          "data": {
            "text/plain": [
              "['i',\n",
              " 'me',\n",
              " 'my',\n",
              " 'myself',\n",
              " 'we',\n",
              " 'our',\n",
              " 'ours',\n",
              " 'ourselves',\n",
              " 'you',\n",
              " \"you're\",\n",
              " \"you've\",\n",
              " \"you'll\",\n",
              " \"you'd\",\n",
              " 'your',\n",
              " 'yours',\n",
              " 'yourself',\n",
              " 'yourselves',\n",
              " 'he',\n",
              " 'him',\n",
              " 'his',\n",
              " 'himself',\n",
              " 'she',\n",
              " \"she's\",\n",
              " 'her',\n",
              " 'hers',\n",
              " 'herself',\n",
              " 'it',\n",
              " \"it's\",\n",
              " 'its',\n",
              " 'itself',\n",
              " 'they',\n",
              " 'them',\n",
              " 'their',\n",
              " 'theirs',\n",
              " 'themselves',\n",
              " 'what',\n",
              " 'which',\n",
              " 'who',\n",
              " 'whom',\n",
              " 'this',\n",
              " 'that',\n",
              " \"that'll\",\n",
              " 'these',\n",
              " 'those',\n",
              " 'am',\n",
              " 'is',\n",
              " 'are',\n",
              " 'was',\n",
              " 'were',\n",
              " 'be',\n",
              " 'been',\n",
              " 'being',\n",
              " 'have',\n",
              " 'has',\n",
              " 'had',\n",
              " 'having',\n",
              " 'do',\n",
              " 'does',\n",
              " 'did',\n",
              " 'doing',\n",
              " 'a',\n",
              " 'an',\n",
              " 'the',\n",
              " 'and',\n",
              " 'but',\n",
              " 'if',\n",
              " 'or',\n",
              " 'because',\n",
              " 'as',\n",
              " 'until',\n",
              " 'while',\n",
              " 'of',\n",
              " 'at',\n",
              " 'by',\n",
              " 'for',\n",
              " 'with',\n",
              " 'about',\n",
              " 'against',\n",
              " 'between',\n",
              " 'into',\n",
              " 'through',\n",
              " 'during',\n",
              " 'before',\n",
              " 'after',\n",
              " 'above',\n",
              " 'below',\n",
              " 'to',\n",
              " 'from',\n",
              " 'up',\n",
              " 'down',\n",
              " 'in',\n",
              " 'out',\n",
              " 'on',\n",
              " 'off',\n",
              " 'over',\n",
              " 'under',\n",
              " 'again',\n",
              " 'further',\n",
              " 'then',\n",
              " 'once',\n",
              " 'here',\n",
              " 'there',\n",
              " 'when',\n",
              " 'where',\n",
              " 'why',\n",
              " 'how',\n",
              " 'all',\n",
              " 'any',\n",
              " 'both',\n",
              " 'each',\n",
              " 'few',\n",
              " 'more',\n",
              " 'most',\n",
              " 'other',\n",
              " 'some',\n",
              " 'such',\n",
              " 'no',\n",
              " 'nor',\n",
              " 'not',\n",
              " 'only',\n",
              " 'own',\n",
              " 'same',\n",
              " 'so',\n",
              " 'than',\n",
              " 'too',\n",
              " 'very',\n",
              " 's',\n",
              " 't',\n",
              " 'can',\n",
              " 'will',\n",
              " 'just',\n",
              " 'don',\n",
              " \"don't\",\n",
              " 'should',\n",
              " \"should've\",\n",
              " 'now',\n",
              " 'd',\n",
              " 'll',\n",
              " 'm',\n",
              " 'o',\n",
              " 're',\n",
              " 've',\n",
              " 'y',\n",
              " 'ain',\n",
              " 'aren',\n",
              " \"aren't\",\n",
              " 'couldn',\n",
              " \"couldn't\",\n",
              " 'didn',\n",
              " \"didn't\",\n",
              " 'doesn',\n",
              " \"doesn't\",\n",
              " 'hadn',\n",
              " \"hadn't\",\n",
              " 'hasn',\n",
              " \"hasn't\",\n",
              " 'haven',\n",
              " \"haven't\",\n",
              " 'isn',\n",
              " \"isn't\",\n",
              " 'ma',\n",
              " 'mightn',\n",
              " \"mightn't\",\n",
              " 'mustn',\n",
              " \"mustn't\",\n",
              " 'needn',\n",
              " \"needn't\",\n",
              " 'shan',\n",
              " \"shan't\",\n",
              " 'shouldn',\n",
              " \"shouldn't\",\n",
              " 'wasn',\n",
              " \"wasn't\",\n",
              " 'weren',\n",
              " \"weren't\",\n",
              " 'won',\n",
              " \"won't\",\n",
              " 'wouldn',\n",
              " \"wouldn't\"]"
            ]
          },
          "metadata": {},
          "execution_count": 30
        }
      ]
    },
    {
      "cell_type": "markdown",
      "source": [
        "Lemmetization"
      ],
      "metadata": {
        "id": "V2s0HQiRzdIv"
      }
    },
    {
      "cell_type": "code",
      "source": [
        "for i in corpus:\n",
        "  words = nltk.word_tokenize(i)\n",
        "  for word in words:\n",
        "    if word not in set(stopwords.words('english')):\n",
        "      print(lemmatizer.lemmatize(word))"
      ],
      "metadata": {
        "colab": {
          "base_uri": "https://localhost:8080/"
        },
        "id": "cPpNeG1rzQnM",
        "outputId": "86428799-6d2c-480d-abb2-cfe346e3dc61"
      },
      "execution_count": 31,
      "outputs": [
        {
          "output_type": "stream",
          "name": "stdout",
          "text": [
            "formula\n",
            "f\n",
            "car\n",
            "high\n",
            "performance\n",
            "single\n",
            "seater\n",
            "racing\n",
            "machine\n",
            "built\n",
            "extreme\n",
            "speed\n",
            "agility\n",
            "powered\n",
            "hybrid\n",
            "turbocharged\n",
            "v\n",
            "engine\n",
            "producing\n",
            "horsepower\n",
            "accelerate\n",
            "km\n",
            "h\n",
            "second\n",
            "aerodynamics\n",
            "including\n",
            "wing\n",
            "diffuser\n",
            "generate\n",
            "massive\n",
            "downforce\n",
            "allowing\n",
            "better\n",
            "grip\n",
            "cornering\n",
            "high\n",
            "speed\n",
            "made\n",
            "advanced\n",
            "carbon\n",
            "fiber\n",
            "material\n",
            "f\n",
            "car\n",
            "lightweight\n",
            "incredibly\n",
            "strong\n",
            "ensuring\n",
            "driver\n",
            "safety\n",
            "drag\n",
            "reduction\n",
            "system\n",
            "drs\n",
            "help\n",
            "improve\n",
            "overtaking\n",
            "reducing\n",
            "aerodynamic\n",
            "drag\n",
            "car\n",
            "equipped\n",
            "sensor\n",
            "providing\n",
            "real\n",
            "time\n",
            "data\n",
            "engineer\n",
            "performance\n",
            "optimization\n",
            "f\n",
            "race\n",
            "known\n",
            "grand\n",
            "prix\n",
            "event\n",
            "take\n",
            "place\n",
            "various\n",
            "track\n",
            "worldwide\n",
            "dedicated\n",
            "race\n",
            "circuit\n",
            "challenging\n",
            "street\n",
            "circuit\n",
            "fia\n",
            "strictly\n",
            "regulates\n",
            "sport\n",
            "enforcing\n",
            "rule\n",
            "fuel\n",
            "usage\n",
            "tire\n",
            "compound\n",
            "car\n",
            "dimension\n",
            "team\n",
            "like\n",
            "ferrari\n",
            "mercedes\n",
            "red\n",
            "bull\n",
            "invest\n",
            "million\n",
            "research\n",
            "development\n",
            "create\n",
            "fastest\n",
            "efficient\n",
            "car\n",
            "season\n",
            "relentless\n",
            "pursuit\n",
            "speed\n",
            "technology\n",
            "make\n",
            "f\n",
            "one\n",
            "exciting\n",
            "competitive\n",
            "motorsports\n",
            "world\n"
          ]
        }
      ]
    },
    {
      "cell_type": "markdown",
      "source": [
        "Now for BAg of words"
      ],
      "metadata": {
        "id": "J_tnYV80zmql"
      }
    },
    {
      "cell_type": "markdown",
      "source": [
        "CountVectorizer in sklearn"
      ],
      "metadata": {
        "id": "o6Jhy0gf0Bmx"
      }
    },
    {
      "cell_type": "code",
      "source": [
        "from sklearn.feature_extraction.text import CountVectorizer\n",
        "cv = CountVectorizer()"
      ],
      "metadata": {
        "id": "QdYmof6BzhDw"
      },
      "execution_count": 32,
      "outputs": []
    },
    {
      "cell_type": "code",
      "source": [
        "X = cv.fit_transform(corpus)"
      ],
      "metadata": {
        "id": "4BY4Iltw0ISp"
      },
      "execution_count": 33,
      "outputs": []
    },
    {
      "cell_type": "markdown",
      "source": [
        "index (feature number)"
      ],
      "metadata": {
        "id": "uWK5B-ir0was"
      }
    },
    {
      "cell_type": "code",
      "source": [
        "cv.vocabulary_"
      ],
      "metadata": {
        "colab": {
          "base_uri": "https://localhost:8080/"
        },
        "id": "Uxb6LRn90NmM",
        "outputId": "ced4d28e-8a18-429d-8c93-9b5a9b2a08c5"
      },
      "execution_count": 34,
      "outputs": [
        {
          "output_type": "execute_result",
          "data": {
            "text/plain": [
              "{'formula': 49,\n",
              " 'cars': 18,\n",
              " 'are': 7,\n",
              " 'high': 56,\n",
              " 'performance': 85,\n",
              " 'single': 108,\n",
              " 'seater': 105,\n",
              " 'racing': 94,\n",
              " 'machines': 70,\n",
              " 'built': 12,\n",
              " 'for': 48,\n",
              " 'extreme': 43,\n",
              " 'speed': 109,\n",
              " 'and': 6,\n",
              " 'agility': 4,\n",
              " 'they': 120,\n",
              " 'powered': 87,\n",
              " 'by': 14,\n",
              " 'hybrid': 58,\n",
              " 'turbocharged': 126,\n",
              " 'engines': 38,\n",
              " 'producing': 89,\n",
              " 'over': 83,\n",
              " 'horsepower': 57,\n",
              " 'can': 15,\n",
              " 'accelerate': 0,\n",
              " 'from': 50,\n",
              " 'to': 124,\n",
              " 'km': 66,\n",
              " 'in': 60,\n",
              " 'just': 65,\n",
              " 'seconds': 106,\n",
              " 'the': 119,\n",
              " 'aerodynamics': 3,\n",
              " 'including': 61,\n",
              " 'wings': 129,\n",
              " 'diffusers': 28,\n",
              " 'generate': 52,\n",
              " 'massive': 73,\n",
              " 'downforce': 30,\n",
              " 'allowing': 5,\n",
              " 'better': 10,\n",
              " 'grip': 54,\n",
              " 'cornering': 23,\n",
              " 'at': 9,\n",
              " 'speeds': 110,\n",
              " 'made': 71,\n",
              " 'advanced': 1,\n",
              " 'carbon': 17,\n",
              " 'fiber': 47,\n",
              " 'materials': 74,\n",
              " 'both': 11,\n",
              " 'lightweight': 68,\n",
              " 'incredibly': 62,\n",
              " 'strong': 114,\n",
              " 'ensuring': 39,\n",
              " 'driver': 32,\n",
              " 'safety': 103,\n",
              " 'drag': 31,\n",
              " 'reduction': 98,\n",
              " 'system': 115,\n",
              " 'drs': 33,\n",
              " 'helps': 55,\n",
              " 'improve': 59,\n",
              " 'overtaking': 84,\n",
              " 'reducing': 97,\n",
              " 'aerodynamic': 2,\n",
              " 'each': 34,\n",
              " 'car': 16,\n",
              " 'is': 64,\n",
              " 'equipped': 40,\n",
              " 'with': 130,\n",
              " 'sensors': 107,\n",
              " 'providing': 90,\n",
              " 'real': 95,\n",
              " 'time': 122,\n",
              " 'data': 25,\n",
              " 'engineers': 37,\n",
              " 'optimization': 82,\n",
              " 'races': 93,\n",
              " 'known': 67,\n",
              " 'as': 8,\n",
              " 'grand': 53,\n",
              " 'prix': 88,\n",
              " 'events': 41,\n",
              " 'take': 116,\n",
              " 'place': 86,\n",
              " 'on': 80,\n",
              " 'various': 128,\n",
              " 'tracks': 125,\n",
              " 'worldwide': 132,\n",
              " 'dedicated': 26,\n",
              " 'race': 92,\n",
              " 'circuits': 20,\n",
              " 'challenging': 19,\n",
              " 'street': 112,\n",
              " 'fia': 46,\n",
              " 'strictly': 113,\n",
              " 'regulates': 99,\n",
              " 'sport': 111,\n",
              " 'enforcing': 36,\n",
              " 'rules': 102,\n",
              " 'fuel': 51,\n",
              " 'usage': 127,\n",
              " 'tire': 123,\n",
              " 'compounds': 22,\n",
              " 'dimensions': 29,\n",
              " 'teams': 117,\n",
              " 'like': 69,\n",
              " 'ferrari': 45,\n",
              " 'mercedes': 75,\n",
              " 'red': 96,\n",
              " 'bull': 13,\n",
              " 'invest': 63,\n",
              " 'millions': 76,\n",
              " 'research': 101,\n",
              " 'development': 27,\n",
              " 'create': 24,\n",
              " 'fastest': 44,\n",
              " 'most': 77,\n",
              " 'efficient': 35,\n",
              " 'season': 104,\n",
              " 'this': 121,\n",
              " 'relentless': 100,\n",
              " 'pursuit': 91,\n",
              " 'of': 79,\n",
              " 'technology': 118,\n",
              " 'makes': 72,\n",
              " 'one': 81,\n",
              " 'exciting': 42,\n",
              " 'competitive': 21,\n",
              " 'motorsports': 78,\n",
              " 'world': 131}"
            ]
          },
          "metadata": {},
          "execution_count": 34
        }
      ]
    },
    {
      "cell_type": "code",
      "source": [
        "corpus[0]"
      ],
      "metadata": {
        "colab": {
          "base_uri": "https://localhost:8080/",
          "height": 54
        },
        "id": "9iCkmtLR0Qrz",
        "outputId": "4aa85add-6152-4ebb-b568-d310d584c151"
      },
      "execution_count": 40,
      "outputs": [
        {
          "output_type": "execute_result",
          "data": {
            "text/plain": [
              "'formula f car high performance single seater racing machine built extreme speed agility'"
            ],
            "application/vnd.google.colaboratory.intrinsic+json": {
              "type": "string"
            }
          },
          "metadata": {},
          "execution_count": 40
        }
      ]
    },
    {
      "cell_type": "code",
      "source": [
        "X[0].toarray()"
      ],
      "metadata": {
        "colab": {
          "base_uri": "https://localhost:8080/"
        },
        "id": "8WvXyH8g0Utl",
        "outputId": "44321486-e09c-4585-ca59-0cb958b472bd"
      },
      "execution_count": 41,
      "outputs": [
        {
          "output_type": "execute_result",
          "data": {
            "text/plain": [
              "array([[0, 0, 0, 0, 1, 0, 1, 1, 0, 0, 0, 0, 1, 0, 0, 0, 0, 0, 1, 0, 0, 0,\n",
              "        0, 0, 0, 0, 0, 0, 0, 0, 0, 0, 0, 0, 0, 0, 0, 0, 0, 0, 0, 0, 0, 1,\n",
              "        0, 0, 0, 0, 1, 1, 0, 0, 0, 0, 0, 0, 1, 0, 0, 0, 0, 0, 0, 0, 0, 0,\n",
              "        0, 0, 0, 0, 1, 0, 0, 0, 0, 0, 0, 0, 0, 0, 0, 0, 0, 0, 0, 1, 0, 0,\n",
              "        0, 0, 0, 0, 0, 0, 1, 0, 0, 0, 0, 0, 0, 0, 0, 0, 0, 1, 0, 0, 1, 1,\n",
              "        0, 0, 0, 0, 0, 0, 0, 0, 0, 0, 0, 0, 0, 0, 0, 0, 0, 0, 0, 0, 0, 0,\n",
              "        0]])"
            ]
          },
          "metadata": {},
          "execution_count": 41
        }
      ]
    },
    {
      "cell_type": "code",
      "source": [
        "#Apply Stopwords Lemmatizer\n",
        "import re\n",
        "corpus =[]\n",
        "for i in range(len(sentences)):\n",
        "  review=  re.sub('[^a-zA-Z]',' ', sentences[i])\n",
        "  review = review.lower()\n",
        "  review = review.split()\n",
        "  review = [lemmatizer.lemmatize(word) for word in review if not word in set(stopwords.words('english'))]\n",
        "  review = ' '.join(review)\n",
        "  corpus.append(review)"
      ],
      "metadata": {
        "id": "ogk57PaC0ZfP"
      },
      "execution_count": 44,
      "outputs": []
    },
    {
      "cell_type": "code",
      "source": [
        "cv.vocabulary_"
      ],
      "metadata": {
        "colab": {
          "base_uri": "https://localhost:8080/"
        },
        "id": "IZmFOudL1WhI",
        "outputId": "3ccfed74-00bf-4693-f1da-c8f78cf65ac5"
      },
      "execution_count": 42,
      "outputs": [
        {
          "output_type": "execute_result",
          "data": {
            "text/plain": [
              "{'formula': 49,\n",
              " 'cars': 18,\n",
              " 'are': 7,\n",
              " 'high': 56,\n",
              " 'performance': 85,\n",
              " 'single': 108,\n",
              " 'seater': 105,\n",
              " 'racing': 94,\n",
              " 'machines': 70,\n",
              " 'built': 12,\n",
              " 'for': 48,\n",
              " 'extreme': 43,\n",
              " 'speed': 109,\n",
              " 'and': 6,\n",
              " 'agility': 4,\n",
              " 'they': 120,\n",
              " 'powered': 87,\n",
              " 'by': 14,\n",
              " 'hybrid': 58,\n",
              " 'turbocharged': 126,\n",
              " 'engines': 38,\n",
              " 'producing': 89,\n",
              " 'over': 83,\n",
              " 'horsepower': 57,\n",
              " 'can': 15,\n",
              " 'accelerate': 0,\n",
              " 'from': 50,\n",
              " 'to': 124,\n",
              " 'km': 66,\n",
              " 'in': 60,\n",
              " 'just': 65,\n",
              " 'seconds': 106,\n",
              " 'the': 119,\n",
              " 'aerodynamics': 3,\n",
              " 'including': 61,\n",
              " 'wings': 129,\n",
              " 'diffusers': 28,\n",
              " 'generate': 52,\n",
              " 'massive': 73,\n",
              " 'downforce': 30,\n",
              " 'allowing': 5,\n",
              " 'better': 10,\n",
              " 'grip': 54,\n",
              " 'cornering': 23,\n",
              " 'at': 9,\n",
              " 'speeds': 110,\n",
              " 'made': 71,\n",
              " 'advanced': 1,\n",
              " 'carbon': 17,\n",
              " 'fiber': 47,\n",
              " 'materials': 74,\n",
              " 'both': 11,\n",
              " 'lightweight': 68,\n",
              " 'incredibly': 62,\n",
              " 'strong': 114,\n",
              " 'ensuring': 39,\n",
              " 'driver': 32,\n",
              " 'safety': 103,\n",
              " 'drag': 31,\n",
              " 'reduction': 98,\n",
              " 'system': 115,\n",
              " 'drs': 33,\n",
              " 'helps': 55,\n",
              " 'improve': 59,\n",
              " 'overtaking': 84,\n",
              " 'reducing': 97,\n",
              " 'aerodynamic': 2,\n",
              " 'each': 34,\n",
              " 'car': 16,\n",
              " 'is': 64,\n",
              " 'equipped': 40,\n",
              " 'with': 130,\n",
              " 'sensors': 107,\n",
              " 'providing': 90,\n",
              " 'real': 95,\n",
              " 'time': 122,\n",
              " 'data': 25,\n",
              " 'engineers': 37,\n",
              " 'optimization': 82,\n",
              " 'races': 93,\n",
              " 'known': 67,\n",
              " 'as': 8,\n",
              " 'grand': 53,\n",
              " 'prix': 88,\n",
              " 'events': 41,\n",
              " 'take': 116,\n",
              " 'place': 86,\n",
              " 'on': 80,\n",
              " 'various': 128,\n",
              " 'tracks': 125,\n",
              " 'worldwide': 132,\n",
              " 'dedicated': 26,\n",
              " 'race': 92,\n",
              " 'circuits': 20,\n",
              " 'challenging': 19,\n",
              " 'street': 112,\n",
              " 'fia': 46,\n",
              " 'strictly': 113,\n",
              " 'regulates': 99,\n",
              " 'sport': 111,\n",
              " 'enforcing': 36,\n",
              " 'rules': 102,\n",
              " 'fuel': 51,\n",
              " 'usage': 127,\n",
              " 'tire': 123,\n",
              " 'compounds': 22,\n",
              " 'dimensions': 29,\n",
              " 'teams': 117,\n",
              " 'like': 69,\n",
              " 'ferrari': 45,\n",
              " 'mercedes': 75,\n",
              " 'red': 96,\n",
              " 'bull': 13,\n",
              " 'invest': 63,\n",
              " 'millions': 76,\n",
              " 'research': 101,\n",
              " 'development': 27,\n",
              " 'create': 24,\n",
              " 'fastest': 44,\n",
              " 'most': 77,\n",
              " 'efficient': 35,\n",
              " 'season': 104,\n",
              " 'this': 121,\n",
              " 'relentless': 100,\n",
              " 'pursuit': 91,\n",
              " 'of': 79,\n",
              " 'technology': 118,\n",
              " 'makes': 72,\n",
              " 'one': 81,\n",
              " 'exciting': 42,\n",
              " 'competitive': 21,\n",
              " 'motorsports': 78,\n",
              " 'world': 131}"
            ]
          },
          "metadata": {},
          "execution_count": 42
        }
      ]
    },
    {
      "cell_type": "code",
      "source": [
        "X[0].toarray()"
      ],
      "metadata": {
        "colab": {
          "base_uri": "https://localhost:8080/"
        },
        "id": "8r1zEWvu2YTw",
        "outputId": "5bc33d83-a799-4ca2-81ac-7251d5eeed77"
      },
      "execution_count": 43,
      "outputs": [
        {
          "output_type": "execute_result",
          "data": {
            "text/plain": [
              "array([[0, 0, 0, 0, 1, 0, 1, 1, 0, 0, 0, 0, 1, 0, 0, 0, 0, 0, 1, 0, 0, 0,\n",
              "        0, 0, 0, 0, 0, 0, 0, 0, 0, 0, 0, 0, 0, 0, 0, 0, 0, 0, 0, 0, 0, 1,\n",
              "        0, 0, 0, 0, 1, 1, 0, 0, 0, 0, 0, 0, 1, 0, 0, 0, 0, 0, 0, 0, 0, 0,\n",
              "        0, 0, 0, 0, 1, 0, 0, 0, 0, 0, 0, 0, 0, 0, 0, 0, 0, 0, 0, 1, 0, 0,\n",
              "        0, 0, 0, 0, 0, 0, 1, 0, 0, 0, 0, 0, 0, 0, 0, 0, 0, 1, 0, 0, 1, 1,\n",
              "        0, 0, 0, 0, 0, 0, 0, 0, 0, 0, 0, 0, 0, 0, 0, 0, 0, 0, 0, 0, 0, 0,\n",
              "        0]])"
            ]
          },
          "metadata": {},
          "execution_count": 43
        }
      ]
    },
    {
      "cell_type": "code",
      "source": [],
      "metadata": {
        "id": "MFiqAO9V2fLW"
      },
      "execution_count": null,
      "outputs": []
    }
  ]
}