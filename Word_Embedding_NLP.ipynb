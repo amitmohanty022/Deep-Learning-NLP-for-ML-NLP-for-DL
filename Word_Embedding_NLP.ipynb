{
  "nbformat": 4,
  "nbformat_minor": 0,
  "metadata": {
    "colab": {
      "provenance": [],
      "gpuType": "T4"
    },
    "kernelspec": {
      "name": "python3",
      "display_name": "Python 3"
    },
    "language_info": {
      "name": "python"
    },
    "accelerator": "GPU"
  },
  "cells": [
    {
      "cell_type": "markdown",
      "source": [
        "#Word Embedding Tech using Embeding Layer in KEras"
      ],
      "metadata": {
        "id": "Hvpa2Ds9CDx-"
      }
    },
    {
      "cell_type": "code",
      "execution_count": 1,
      "metadata": {
        "id": "F0BneTqC_pQR"
      },
      "outputs": [],
      "source": [
        "#used tensorflow >2.0 and Keras"
      ]
    },
    {
      "cell_type": "code",
      "source": [],
      "metadata": {
        "id": "sxAWcaA1DhOF"
      },
      "execution_count": null,
      "outputs": []
    },
    {
      "cell_type": "code",
      "source": [
        "pip install tensorflow"
      ],
      "metadata": {
        "colab": {
          "base_uri": "https://localhost:8080/"
        },
        "id": "lUitxZtIDSBl",
        "outputId": "0d3cca9f-a5be-4fae-be1d-bd7158ca52a9"
      },
      "execution_count": 10,
      "outputs": [
        {
          "output_type": "stream",
          "name": "stdout",
          "text": [
            "Requirement already satisfied: tensorflow in /usr/local/lib/python3.11/dist-packages (2.18.0)\n",
            "Requirement already satisfied: absl-py>=1.0.0 in /usr/local/lib/python3.11/dist-packages (from tensorflow) (1.4.0)\n",
            "Requirement already satisfied: astunparse>=1.6.0 in /usr/local/lib/python3.11/dist-packages (from tensorflow) (1.6.3)\n",
            "Requirement already satisfied: flatbuffers>=24.3.25 in /usr/local/lib/python3.11/dist-packages (from tensorflow) (25.1.24)\n",
            "Requirement already satisfied: gast!=0.5.0,!=0.5.1,!=0.5.2,>=0.2.1 in /usr/local/lib/python3.11/dist-packages (from tensorflow) (0.6.0)\n",
            "Requirement already satisfied: google-pasta>=0.1.1 in /usr/local/lib/python3.11/dist-packages (from tensorflow) (0.2.0)\n",
            "Requirement already satisfied: libclang>=13.0.0 in /usr/local/lib/python3.11/dist-packages (from tensorflow) (18.1.1)\n",
            "Requirement already satisfied: opt-einsum>=2.3.2 in /usr/local/lib/python3.11/dist-packages (from tensorflow) (3.4.0)\n",
            "Requirement already satisfied: packaging in /usr/local/lib/python3.11/dist-packages (from tensorflow) (24.2)\n",
            "Requirement already satisfied: protobuf!=4.21.0,!=4.21.1,!=4.21.2,!=4.21.3,!=4.21.4,!=4.21.5,<6.0.0dev,>=3.20.3 in /usr/local/lib/python3.11/dist-packages (from tensorflow) (4.25.6)\n",
            "Requirement already satisfied: requests<3,>=2.21.0 in /usr/local/lib/python3.11/dist-packages (from tensorflow) (2.32.3)\n",
            "Requirement already satisfied: setuptools in /usr/local/lib/python3.11/dist-packages (from tensorflow) (75.1.0)\n",
            "Requirement already satisfied: six>=1.12.0 in /usr/local/lib/python3.11/dist-packages (from tensorflow) (1.17.0)\n",
            "Requirement already satisfied: termcolor>=1.1.0 in /usr/local/lib/python3.11/dist-packages (from tensorflow) (2.5.0)\n",
            "Requirement already satisfied: typing-extensions>=3.6.6 in /usr/local/lib/python3.11/dist-packages (from tensorflow) (4.12.2)\n",
            "Requirement already satisfied: wrapt>=1.11.0 in /usr/local/lib/python3.11/dist-packages (from tensorflow) (1.17.2)\n",
            "Requirement already satisfied: grpcio<2.0,>=1.24.3 in /usr/local/lib/python3.11/dist-packages (from tensorflow) (1.70.0)\n",
            "Requirement already satisfied: tensorboard<2.19,>=2.18 in /usr/local/lib/python3.11/dist-packages (from tensorflow) (2.18.0)\n",
            "Requirement already satisfied: keras>=3.5.0 in /usr/local/lib/python3.11/dist-packages (from tensorflow) (3.8.0)\n",
            "Requirement already satisfied: numpy<2.1.0,>=1.26.0 in /usr/local/lib/python3.11/dist-packages (from tensorflow) (1.26.4)\n",
            "Requirement already satisfied: h5py>=3.11.0 in /usr/local/lib/python3.11/dist-packages (from tensorflow) (3.12.1)\n",
            "Requirement already satisfied: ml-dtypes<0.5.0,>=0.4.0 in /usr/local/lib/python3.11/dist-packages (from tensorflow) (0.4.1)\n",
            "Requirement already satisfied: tensorflow-io-gcs-filesystem>=0.23.1 in /usr/local/lib/python3.11/dist-packages (from tensorflow) (0.37.1)\n",
            "Requirement already satisfied: wheel<1.0,>=0.23.0 in /usr/local/lib/python3.11/dist-packages (from astunparse>=1.6.0->tensorflow) (0.45.1)\n",
            "Requirement already satisfied: rich in /usr/local/lib/python3.11/dist-packages (from keras>=3.5.0->tensorflow) (13.9.4)\n",
            "Requirement already satisfied: namex in /usr/local/lib/python3.11/dist-packages (from keras>=3.5.0->tensorflow) (0.0.8)\n",
            "Requirement already satisfied: optree in /usr/local/lib/python3.11/dist-packages (from keras>=3.5.0->tensorflow) (0.14.0)\n",
            "Requirement already satisfied: charset-normalizer<4,>=2 in /usr/local/lib/python3.11/dist-packages (from requests<3,>=2.21.0->tensorflow) (3.4.1)\n",
            "Requirement already satisfied: idna<4,>=2.5 in /usr/local/lib/python3.11/dist-packages (from requests<3,>=2.21.0->tensorflow) (3.10)\n",
            "Requirement already satisfied: urllib3<3,>=1.21.1 in /usr/local/lib/python3.11/dist-packages (from requests<3,>=2.21.0->tensorflow) (2.3.0)\n",
            "Requirement already satisfied: certifi>=2017.4.17 in /usr/local/lib/python3.11/dist-packages (from requests<3,>=2.21.0->tensorflow) (2025.1.31)\n",
            "Requirement already satisfied: markdown>=2.6.8 in /usr/local/lib/python3.11/dist-packages (from tensorboard<2.19,>=2.18->tensorflow) (3.7)\n",
            "Requirement already satisfied: tensorboard-data-server<0.8.0,>=0.7.0 in /usr/local/lib/python3.11/dist-packages (from tensorboard<2.19,>=2.18->tensorflow) (0.7.2)\n",
            "Requirement already satisfied: werkzeug>=1.0.1 in /usr/local/lib/python3.11/dist-packages (from tensorboard<2.19,>=2.18->tensorflow) (3.1.3)\n",
            "Requirement already satisfied: MarkupSafe>=2.1.1 in /usr/local/lib/python3.11/dist-packages (from werkzeug>=1.0.1->tensorboard<2.19,>=2.18->tensorflow) (3.0.2)\n",
            "Requirement already satisfied: markdown-it-py>=2.2.0 in /usr/local/lib/python3.11/dist-packages (from rich->keras>=3.5.0->tensorflow) (3.0.0)\n",
            "Requirement already satisfied: pygments<3.0.0,>=2.13.0 in /usr/local/lib/python3.11/dist-packages (from rich->keras>=3.5.0->tensorflow) (2.18.0)\n",
            "Requirement already satisfied: mdurl~=0.1 in /usr/local/lib/python3.11/dist-packages (from markdown-it-py>=2.2.0->rich->keras>=3.5.0->tensorflow) (0.1.2)\n"
          ]
        }
      ]
    },
    {
      "cell_type": "code",
      "source": [
        "import tensorflow as tf\n",
        "print(tf.__version__)"
      ],
      "metadata": {
        "colab": {
          "base_uri": "https://localhost:8080/"
        },
        "id": "Rww9uyjKCoj5",
        "outputId": "a948b00b-b507-434a-c278-bae84602f0a4"
      },
      "execution_count": 11,
      "outputs": [
        {
          "output_type": "stream",
          "name": "stdout",
          "text": [
            "2.18.0\n"
          ]
        }
      ]
    },
    {
      "cell_type": "markdown",
      "source": [
        "One Hot Encoding"
      ],
      "metadata": {
        "id": "rdOvCBw-EWx1"
      }
    },
    {
      "cell_type": "code",
      "source": [
        "from tensorflow.keras.preprocessing.text import one_hot"
      ],
      "metadata": {
        "id": "LoJm1oKbDCgT"
      },
      "execution_count": 12,
      "outputs": []
    },
    {
      "cell_type": "code",
      "source": [
        "## sentences\n",
        "sent=[  'the glass of milk',\n",
        "     'the glass of juice',\n",
        "     'the cup of tea',\n",
        "    'I am a good boy',\n",
        "     'I am a good developer',\n",
        "     'understand the meaning of words',\n",
        "     'your videos are good']"
      ],
      "metadata": {
        "id": "TIgK7cV2DG3t"
      },
      "execution_count": 13,
      "outputs": []
    },
    {
      "cell_type": "code",
      "source": [
        "sent"
      ],
      "metadata": {
        "colab": {
          "base_uri": "https://localhost:8080/"
        },
        "id": "f45jJXYfDqho",
        "outputId": "9584508f-d2d5-4128-bc8a-139e86e85f9b"
      },
      "execution_count": 14,
      "outputs": [
        {
          "output_type": "execute_result",
          "data": {
            "text/plain": [
              "['the glass of milk',\n",
              " 'the glass of juice',\n",
              " 'the cup of tea',\n",
              " 'I am a good boy',\n",
              " 'I am a good developer',\n",
              " 'understand the meaning of words',\n",
              " 'your videos are good']"
            ]
          },
          "metadata": {},
          "execution_count": 14
        }
      ]
    },
    {
      "cell_type": "code",
      "source": [
        "### Vocabulary size\n",
        "voc_size=500"
      ],
      "metadata": {
        "id": "def9VdT6DuvF"
      },
      "execution_count": 15,
      "outputs": []
    },
    {
      "cell_type": "markdown",
      "source": [
        "#One Hot Representation\""
      ],
      "metadata": {
        "id": "y2pDm-KREjBL"
      }
    },
    {
      "cell_type": "code",
      "source": [
        "onehot_repr=[one_hot(words,voc_size)for words in sent]\n",
        "print(onehot_repr)"
      ],
      "metadata": {
        "colab": {
          "base_uri": "https://localhost:8080/"
        },
        "id": "bd_xS_VTDtfc",
        "outputId": "be970022-82c4-4a48-c7ae-a94d0adbdbb6"
      },
      "execution_count": 16,
      "outputs": [
        {
          "output_type": "stream",
          "name": "stdout",
          "text": [
            "[[92, 403, 295, 350], [92, 403, 295, 372], [92, 212, 295, 487], [301, 327, 27, 487, 424], [301, 327, 27, 487, 323], [111, 92, 220, 295, 139], [351, 161, 258, 487]]\n"
          ]
        }
      ]
    },
    {
      "cell_type": "markdown",
      "source": [
        "for each word i will be having index number will be represneting in 1 AND 0 WILL BE VISIBLE 1"
      ],
      "metadata": {
        "id": "hIvt6ZyKFD8G"
      }
    },
    {
      "cell_type": "markdown",
      "source": [
        "#Word Embedding Represntation"
      ],
      "metadata": {
        "id": "-yKqXBH8EtJC"
      }
    },
    {
      "cell_type": "code",
      "source": [
        "from tensorflow.keras.layers import Embedding\n",
        "from tensorflow.keras.preprocessing.sequence import pad_sequences\n",
        "from tensorflow.keras.models import Sequential"
      ],
      "metadata": {
        "id": "I1HLFglbDtcc"
      },
      "execution_count": 17,
      "outputs": []
    },
    {
      "cell_type": "code",
      "source": [
        "import numpy as np"
      ],
      "metadata": {
        "id": "-5GGGN8jDtZo"
      },
      "execution_count": 18,
      "outputs": []
    },
    {
      "cell_type": "markdown",
      "source": [
        "#pading"
      ],
      "metadata": {
        "id": "p5Ofk1i2Go-F"
      }
    },
    {
      "cell_type": "code",
      "source": [
        "## pre padding\n",
        "sent_length=8\n",
        "embedded_docs=pad_sequences(onehot_repr,padding='pre',maxlen=sent_length)\n",
        "print(embedded_docs)"
      ],
      "metadata": {
        "colab": {
          "base_uri": "https://localhost:8080/"
        },
        "id": "MGYVMg2qDtWm",
        "outputId": "c1440f8f-0bfa-4b1d-8114-70fb603d1e05"
      },
      "execution_count": 19,
      "outputs": [
        {
          "output_type": "stream",
          "name": "stdout",
          "text": [
            "[[  0   0   0   0  92 403 295 350]\n",
            " [  0   0   0   0  92 403 295 372]\n",
            " [  0   0   0   0  92 212 295 487]\n",
            " [  0   0   0 301 327  27 487 424]\n",
            " [  0   0   0 301 327  27 487 323]\n",
            " [  0   0   0 111  92 220 295 139]\n",
            " [  0   0   0   0 351 161 258 487]]\n"
          ]
        }
      ]
    },
    {
      "cell_type": "markdown",
      "source": [
        "Zeros will get added"
      ],
      "metadata": {
        "id": "OZGhxMtQG4YV"
      }
    },
    {
      "cell_type": "code",
      "source": [
        "## 10 feature dimesnions\n",
        "dim=10\n"
      ],
      "metadata": {
        "id": "MxIqV81zDtOn"
      },
      "execution_count": 20,
      "outputs": []
    },
    {
      "cell_type": "code",
      "source": [
        "# model=Sequential()\n",
        "# model.add(Embedding(voc_size,10,input_length=sent_length))\n",
        "# model.compile('adam','mse')\n",
        "\n",
        "\n",
        "from keras.models import Sequential\n",
        "from keras.layers import Embedding\n",
        "\n",
        "# Define your model\n",
        "model = Sequential()\n",
        "\n",
        "# Add the Embedding layer without input_length\n",
        "model.add(Embedding(input_dim=voc_size, output_dim=10, input_shape=(sent_length,)))\n",
        "\n",
        "# Compile the model\n",
        "model.compile(optimizer='adam', loss='mse')"
      ],
      "metadata": {
        "colab": {
          "base_uri": "https://localhost:8080/"
        },
        "id": "WoDXXEf4DtLt",
        "outputId": "0c9e78d3-916c-423c-f95f-5f516743b22c"
      },
      "execution_count": 23,
      "outputs": [
        {
          "output_type": "stream",
          "name": "stderr",
          "text": [
            "/usr/local/lib/python3.11/dist-packages/keras/src/layers/core/embedding.py:93: UserWarning: Do not pass an `input_shape`/`input_dim` argument to a layer. When using Sequential models, prefer using an `Input(shape)` object as the first layer in the model instead.\n",
            "  super().__init__(**kwargs)\n"
          ]
        }
      ]
    },
    {
      "cell_type": "code",
      "source": [
        "model.summary()"
      ],
      "metadata": {
        "colab": {
          "base_uri": "https://localhost:8080/",
          "height": 161
        },
        "id": "UGIuJgFWDtIt",
        "outputId": "a073b5ae-5920-4036-a2d5-ac67c26ce141"
      },
      "execution_count": 24,
      "outputs": [
        {
          "output_type": "display_data",
          "data": {
            "text/plain": [
              "\u001b[1mModel: \"sequential_1\"\u001b[0m\n"
            ],
            "text/html": [
              "<pre style=\"white-space:pre;overflow-x:auto;line-height:normal;font-family:Menlo,'DejaVu Sans Mono',consolas,'Courier New',monospace\"><span style=\"font-weight: bold\">Model: \"sequential_1\"</span>\n",
              "</pre>\n"
            ]
          },
          "metadata": {}
        },
        {
          "output_type": "display_data",
          "data": {
            "text/plain": [
              "┏━━━━━━━━━━━━━━━━━━━━━━━━━━━━━━━━━━━━━━┳━━━━━━━━━━━━━━━━━━━━━━━━━━━━━┳━━━━━━━━━━━━━━━━━┓\n",
              "┃\u001b[1m \u001b[0m\u001b[1mLayer (type)                        \u001b[0m\u001b[1m \u001b[0m┃\u001b[1m \u001b[0m\u001b[1mOutput Shape               \u001b[0m\u001b[1m \u001b[0m┃\u001b[1m \u001b[0m\u001b[1m        Param #\u001b[0m\u001b[1m \u001b[0m┃\n",
              "┡━━━━━━━━━━━━━━━━━━━━━━━━━━━━━━━━━━━━━━╇━━━━━━━━━━━━━━━━━━━━━━━━━━━━━╇━━━━━━━━━━━━━━━━━┩\n",
              "│ embedding_1 (\u001b[38;5;33mEmbedding\u001b[0m)              │ (\u001b[38;5;45mNone\u001b[0m, \u001b[38;5;34m8\u001b[0m, \u001b[38;5;34m10\u001b[0m)               │           \u001b[38;5;34m5,000\u001b[0m │\n",
              "└──────────────────────────────────────┴─────────────────────────────┴─────────────────┘\n"
            ],
            "text/html": [
              "<pre style=\"white-space:pre;overflow-x:auto;line-height:normal;font-family:Menlo,'DejaVu Sans Mono',consolas,'Courier New',monospace\">┏━━━━━━━━━━━━━━━━━━━━━━━━━━━━━━━━━━━━━━┳━━━━━━━━━━━━━━━━━━━━━━━━━━━━━┳━━━━━━━━━━━━━━━━━┓\n",
              "┃<span style=\"font-weight: bold\"> Layer (type)                         </span>┃<span style=\"font-weight: bold\"> Output Shape                </span>┃<span style=\"font-weight: bold\">         Param # </span>┃\n",
              "┡━━━━━━━━━━━━━━━━━━━━━━━━━━━━━━━━━━━━━━╇━━━━━━━━━━━━━━━━━━━━━━━━━━━━━╇━━━━━━━━━━━━━━━━━┩\n",
              "│ embedding_1 (<span style=\"color: #0087ff; text-decoration-color: #0087ff\">Embedding</span>)              │ (<span style=\"color: #00d7ff; text-decoration-color: #00d7ff\">None</span>, <span style=\"color: #00af00; text-decoration-color: #00af00\">8</span>, <span style=\"color: #00af00; text-decoration-color: #00af00\">10</span>)               │           <span style=\"color: #00af00; text-decoration-color: #00af00\">5,000</span> │\n",
              "└──────────────────────────────────────┴─────────────────────────────┴─────────────────┘\n",
              "</pre>\n"
            ]
          },
          "metadata": {}
        },
        {
          "output_type": "display_data",
          "data": {
            "text/plain": [
              "\u001b[1m Total params: \u001b[0m\u001b[38;5;34m5,000\u001b[0m (19.53 KB)\n"
            ],
            "text/html": [
              "<pre style=\"white-space:pre;overflow-x:auto;line-height:normal;font-family:Menlo,'DejaVu Sans Mono',consolas,'Courier New',monospace\"><span style=\"font-weight: bold\"> Total params: </span><span style=\"color: #00af00; text-decoration-color: #00af00\">5,000</span> (19.53 KB)\n",
              "</pre>\n"
            ]
          },
          "metadata": {}
        },
        {
          "output_type": "display_data",
          "data": {
            "text/plain": [
              "\u001b[1m Trainable params: \u001b[0m\u001b[38;5;34m5,000\u001b[0m (19.53 KB)\n"
            ],
            "text/html": [
              "<pre style=\"white-space:pre;overflow-x:auto;line-height:normal;font-family:Menlo,'DejaVu Sans Mono',consolas,'Courier New',monospace\"><span style=\"font-weight: bold\"> Trainable params: </span><span style=\"color: #00af00; text-decoration-color: #00af00\">5,000</span> (19.53 KB)\n",
              "</pre>\n"
            ]
          },
          "metadata": {}
        },
        {
          "output_type": "display_data",
          "data": {
            "text/plain": [
              "\u001b[1m Non-trainable params: \u001b[0m\u001b[38;5;34m0\u001b[0m (0.00 B)\n"
            ],
            "text/html": [
              "<pre style=\"white-space:pre;overflow-x:auto;line-height:normal;font-family:Menlo,'DejaVu Sans Mono',consolas,'Courier New',monospace\"><span style=\"font-weight: bold\"> Non-trainable params: </span><span style=\"color: #00af00; text-decoration-color: #00af00\">0</span> (0.00 B)\n",
              "</pre>\n"
            ]
          },
          "metadata": {}
        }
      ]
    },
    {
      "cell_type": "code",
      "source": [
        "##'the glass of milk',\n",
        "embedded_docs[0]"
      ],
      "metadata": {
        "colab": {
          "base_uri": "https://localhost:8080/"
        },
        "id": "2DvfbBDODtF3",
        "outputId": "a0b49a56-e35d-4c32-c88d-e90136caa047"
      },
      "execution_count": 25,
      "outputs": [
        {
          "output_type": "execute_result",
          "data": {
            "text/plain": [
              "array([  0,   0,   0,   0,  92, 403, 295, 350], dtype=int32)"
            ]
          },
          "metadata": {},
          "execution_count": 25
        }
      ]
    },
    {
      "source": [
        "# Reshape the input for prediction\n",
        "input_data = np.expand_dims(embedded_docs[0], axis=0)  # For a single sample\n",
        "# input_data = embedded_docs  # For the entire dataset\n",
        "\n",
        "# Make predictions\n",
        "predictions = model.predict(input_data)\n",
        "\n",
        "print(predictions)"
      ],
      "cell_type": "code",
      "metadata": {
        "colab": {
          "base_uri": "https://localhost:8080/"
        },
        "id": "KSGyQdpdKLHN",
        "outputId": "ca836603-374e-48d8-ff4b-f9cd48f7fbf2"
      },
      "execution_count": 28,
      "outputs": [
        {
          "output_type": "stream",
          "name": "stdout",
          "text": [
            "\u001b[1m1/1\u001b[0m \u001b[32m━━━━━━━━━━━━━━━━━━━━\u001b[0m\u001b[37m\u001b[0m \u001b[1m0s\u001b[0m 203ms/step\n",
            "[[[ 0.02704803  0.02485188 -0.00335335  0.04839203 -0.04274501\n",
            "   -0.02062717  0.04292579  0.04756952 -0.01831806 -0.02993758]\n",
            "  [ 0.02704803  0.02485188 -0.00335335  0.04839203 -0.04274501\n",
            "   -0.02062717  0.04292579  0.04756952 -0.01831806 -0.02993758]\n",
            "  [ 0.02704803  0.02485188 -0.00335335  0.04839203 -0.04274501\n",
            "   -0.02062717  0.04292579  0.04756952 -0.01831806 -0.02993758]\n",
            "  [ 0.02704803  0.02485188 -0.00335335  0.04839203 -0.04274501\n",
            "   -0.02062717  0.04292579  0.04756952 -0.01831806 -0.02993758]\n",
            "  [ 0.00812495  0.04177072 -0.02894865 -0.02590597 -0.03849349\n",
            "   -0.04595038 -0.02607348  0.00255649 -0.03169061 -0.02461059]\n",
            "  [ 0.02247384 -0.03657117  0.04836503  0.00557498  0.02922395\n",
            "   -0.02016803  0.00303533  0.04065808 -0.02931255 -0.00246736]\n",
            "  [-0.01878225 -0.0138834   0.01852414 -0.02121666 -0.00952798\n",
            "    0.01300484 -0.04551562 -0.01378888 -0.01077571 -0.03755225]\n",
            "  [ 0.03321061  0.02693105 -0.03632448  0.02304468  0.02674022\n",
            "    0.04240197  0.02963612 -0.01244531  0.01766912 -0.04184695]]]\n"
          ]
        }
      ]
    },
    {
      "cell_type": "code",
      "source": [
        "print(model.predict(embedded_docs))"
      ],
      "metadata": {
        "colab": {
          "base_uri": "https://localhost:8080/"
        },
        "id": "zUppFH5LHHjk",
        "outputId": "6f7b4eb5-5348-4623-97fa-9072a87327da"
      },
      "execution_count": 31,
      "outputs": [
        {
          "output_type": "stream",
          "name": "stdout",
          "text": [
            "\u001b[1m1/1\u001b[0m \u001b[32m━━━━━━━━━━━━━━━━━━━━\u001b[0m\u001b[37m\u001b[0m \u001b[1m0s\u001b[0m 107ms/step\n",
            "[[[ 2.7048025e-02  2.4851885e-02 -3.3533461e-03  4.8392031e-02\n",
            "   -4.2745005e-02 -2.0627165e-02  4.2925786e-02  4.7569517e-02\n",
            "   -1.8318057e-02 -2.9937578e-02]\n",
            "  [ 2.7048025e-02  2.4851885e-02 -3.3533461e-03  4.8392031e-02\n",
            "   -4.2745005e-02 -2.0627165e-02  4.2925786e-02  4.7569517e-02\n",
            "   -1.8318057e-02 -2.9937578e-02]\n",
            "  [ 2.7048025e-02  2.4851885e-02 -3.3533461e-03  4.8392031e-02\n",
            "   -4.2745005e-02 -2.0627165e-02  4.2925786e-02  4.7569517e-02\n",
            "   -1.8318057e-02 -2.9937578e-02]\n",
            "  [ 2.7048025e-02  2.4851885e-02 -3.3533461e-03  4.8392031e-02\n",
            "   -4.2745005e-02 -2.0627165e-02  4.2925786e-02  4.7569517e-02\n",
            "   -1.8318057e-02 -2.9937578e-02]\n",
            "  [ 8.1249475e-03  4.1770723e-02 -2.8948653e-02 -2.5905967e-02\n",
            "   -3.8493492e-02 -4.5950379e-02 -2.6073480e-02  2.5564916e-03\n",
            "   -3.1690612e-02 -2.4610592e-02]\n",
            "  [ 2.2473838e-02 -3.6571167e-02  4.8365030e-02  5.5749789e-03\n",
            "    2.9223952e-02 -2.0168031e-02  3.0353293e-03  4.0658083e-02\n",
            "   -2.9312551e-02 -2.4673566e-03]\n",
            "  [-1.8782247e-02 -1.3883401e-02  1.8524136e-02 -2.1216655e-02\n",
            "   -9.5279813e-03  1.3004843e-02 -4.5515623e-02 -1.3788879e-02\n",
            "   -1.0775708e-02 -3.7552249e-02]\n",
            "  [ 3.3210609e-02  2.6931051e-02 -3.6324479e-02  2.3044679e-02\n",
            "    2.6740219e-02  4.2401973e-02  2.9636119e-02 -1.2445308e-02\n",
            "    1.7669115e-02 -4.1846953e-02]]\n",
            "\n",
            " [[ 2.7048025e-02  2.4851885e-02 -3.3533461e-03  4.8392031e-02\n",
            "   -4.2745005e-02 -2.0627165e-02  4.2925786e-02  4.7569517e-02\n",
            "   -1.8318057e-02 -2.9937578e-02]\n",
            "  [ 2.7048025e-02  2.4851885e-02 -3.3533461e-03  4.8392031e-02\n",
            "   -4.2745005e-02 -2.0627165e-02  4.2925786e-02  4.7569517e-02\n",
            "   -1.8318057e-02 -2.9937578e-02]\n",
            "  [ 2.7048025e-02  2.4851885e-02 -3.3533461e-03  4.8392031e-02\n",
            "   -4.2745005e-02 -2.0627165e-02  4.2925786e-02  4.7569517e-02\n",
            "   -1.8318057e-02 -2.9937578e-02]\n",
            "  [ 2.7048025e-02  2.4851885e-02 -3.3533461e-03  4.8392031e-02\n",
            "   -4.2745005e-02 -2.0627165e-02  4.2925786e-02  4.7569517e-02\n",
            "   -1.8318057e-02 -2.9937578e-02]\n",
            "  [ 8.1249475e-03  4.1770723e-02 -2.8948653e-02 -2.5905967e-02\n",
            "   -3.8493492e-02 -4.5950379e-02 -2.6073480e-02  2.5564916e-03\n",
            "   -3.1690612e-02 -2.4610592e-02]\n",
            "  [ 2.2473838e-02 -3.6571167e-02  4.8365030e-02  5.5749789e-03\n",
            "    2.9223952e-02 -2.0168031e-02  3.0353293e-03  4.0658083e-02\n",
            "   -2.9312551e-02 -2.4673566e-03]\n",
            "  [-1.8782247e-02 -1.3883401e-02  1.8524136e-02 -2.1216655e-02\n",
            "   -9.5279813e-03  1.3004843e-02 -4.5515623e-02 -1.3788879e-02\n",
            "   -1.0775708e-02 -3.7552249e-02]\n",
            "  [ 4.4666417e-03 -1.6601730e-02 -3.9214827e-02 -4.9605742e-03\n",
            "   -4.8615266e-02 -3.3051766e-02 -4.4294536e-02 -2.9405439e-02\n",
            "    4.0755872e-02 -3.0398905e-02]]\n",
            "\n",
            " [[ 2.7048025e-02  2.4851885e-02 -3.3533461e-03  4.8392031e-02\n",
            "   -4.2745005e-02 -2.0627165e-02  4.2925786e-02  4.7569517e-02\n",
            "   -1.8318057e-02 -2.9937578e-02]\n",
            "  [ 2.7048025e-02  2.4851885e-02 -3.3533461e-03  4.8392031e-02\n",
            "   -4.2745005e-02 -2.0627165e-02  4.2925786e-02  4.7569517e-02\n",
            "   -1.8318057e-02 -2.9937578e-02]\n",
            "  [ 2.7048025e-02  2.4851885e-02 -3.3533461e-03  4.8392031e-02\n",
            "   -4.2745005e-02 -2.0627165e-02  4.2925786e-02  4.7569517e-02\n",
            "   -1.8318057e-02 -2.9937578e-02]\n",
            "  [ 2.7048025e-02  2.4851885e-02 -3.3533461e-03  4.8392031e-02\n",
            "   -4.2745005e-02 -2.0627165e-02  4.2925786e-02  4.7569517e-02\n",
            "   -1.8318057e-02 -2.9937578e-02]\n",
            "  [ 8.1249475e-03  4.1770723e-02 -2.8948653e-02 -2.5905967e-02\n",
            "   -3.8493492e-02 -4.5950379e-02 -2.6073480e-02  2.5564916e-03\n",
            "   -3.1690612e-02 -2.4610592e-02]\n",
            "  [-1.1751056e-03  1.4078166e-02  2.2156920e-02  4.1650798e-02\n",
            "    1.5197191e-02  4.5039523e-02 -4.4686329e-02 -9.5687993e-03\n",
            "   -1.0686144e-03  3.8958762e-02]\n",
            "  [-1.8782247e-02 -1.3883401e-02  1.8524136e-02 -2.1216655e-02\n",
            "   -9.5279813e-03  1.3004843e-02 -4.5515623e-02 -1.3788879e-02\n",
            "   -1.0775708e-02 -3.7552249e-02]\n",
            "  [ 1.6387630e-02 -1.7572425e-02 -3.9017975e-02  2.6442297e-03\n",
            "   -1.9095862e-02  3.4433734e-02  4.4077266e-02  1.6215626e-02\n",
            "    4.4338394e-02 -8.0693513e-05]]\n",
            "\n",
            " [[ 2.7048025e-02  2.4851885e-02 -3.3533461e-03  4.8392031e-02\n",
            "   -4.2745005e-02 -2.0627165e-02  4.2925786e-02  4.7569517e-02\n",
            "   -1.8318057e-02 -2.9937578e-02]\n",
            "  [ 2.7048025e-02  2.4851885e-02 -3.3533461e-03  4.8392031e-02\n",
            "   -4.2745005e-02 -2.0627165e-02  4.2925786e-02  4.7569517e-02\n",
            "   -1.8318057e-02 -2.9937578e-02]\n",
            "  [ 2.7048025e-02  2.4851885e-02 -3.3533461e-03  4.8392031e-02\n",
            "   -4.2745005e-02 -2.0627165e-02  4.2925786e-02  4.7569517e-02\n",
            "   -1.8318057e-02 -2.9937578e-02]\n",
            "  [-3.2591082e-02  5.0285235e-03  1.4522936e-02 -5.8839209e-03\n",
            "    1.2314856e-02 -4.1521382e-02 -2.9726017e-02 -5.7095997e-03\n",
            "    4.8424128e-02 -2.9602194e-02]\n",
            "  [-4.3031096e-02  3.7170421e-02  2.0282414e-02  4.4550743e-02\n",
            "   -3.8583390e-03 -3.5987869e-03 -1.3942696e-02  2.9405128e-02\n",
            "   -7.9321750e-03 -3.7063312e-02]\n",
            "  [-7.3985346e-03  1.5509572e-02 -3.0222202e-02  4.9151886e-02\n",
            "   -2.1770155e-02 -4.3359816e-02  3.1146023e-02  6.7151077e-03\n",
            "    1.8672515e-02 -2.1245016e-02]\n",
            "  [ 1.6387630e-02 -1.7572425e-02 -3.9017975e-02  2.6442297e-03\n",
            "   -1.9095862e-02  3.4433734e-02  4.4077266e-02  1.6215626e-02\n",
            "    4.4338394e-02 -8.0693513e-05]\n",
            "  [ 2.3353625e-02 -3.6841583e-02  6.5138340e-03 -1.2034498e-02\n",
            "   -1.0198213e-02 -3.4050122e-02 -9.8356120e-03  2.3642071e-03\n",
            "    5.9452653e-03 -2.4273550e-02]]\n",
            "\n",
            " [[ 2.7048025e-02  2.4851885e-02 -3.3533461e-03  4.8392031e-02\n",
            "   -4.2745005e-02 -2.0627165e-02  4.2925786e-02  4.7569517e-02\n",
            "   -1.8318057e-02 -2.9937578e-02]\n",
            "  [ 2.7048025e-02  2.4851885e-02 -3.3533461e-03  4.8392031e-02\n",
            "   -4.2745005e-02 -2.0627165e-02  4.2925786e-02  4.7569517e-02\n",
            "   -1.8318057e-02 -2.9937578e-02]\n",
            "  [ 2.7048025e-02  2.4851885e-02 -3.3533461e-03  4.8392031e-02\n",
            "   -4.2745005e-02 -2.0627165e-02  4.2925786e-02  4.7569517e-02\n",
            "   -1.8318057e-02 -2.9937578e-02]\n",
            "  [-3.2591082e-02  5.0285235e-03  1.4522936e-02 -5.8839209e-03\n",
            "    1.2314856e-02 -4.1521382e-02 -2.9726017e-02 -5.7095997e-03\n",
            "    4.8424128e-02 -2.9602194e-02]\n",
            "  [-4.3031096e-02  3.7170421e-02  2.0282414e-02  4.4550743e-02\n",
            "   -3.8583390e-03 -3.5987869e-03 -1.3942696e-02  2.9405128e-02\n",
            "   -7.9321750e-03 -3.7063312e-02]\n",
            "  [-7.3985346e-03  1.5509572e-02 -3.0222202e-02  4.9151886e-02\n",
            "   -2.1770155e-02 -4.3359816e-02  3.1146023e-02  6.7151077e-03\n",
            "    1.8672515e-02 -2.1245016e-02]\n",
            "  [ 1.6387630e-02 -1.7572425e-02 -3.9017975e-02  2.6442297e-03\n",
            "   -1.9095862e-02  3.4433734e-02  4.4077266e-02  1.6215626e-02\n",
            "    4.4338394e-02 -8.0693513e-05]\n",
            "  [-4.7271229e-02  2.7824644e-02  3.3228885e-02  1.7703805e-02\n",
            "    3.8590197e-02 -2.3484552e-02 -1.5032817e-02 -1.9496858e-02\n",
            "   -3.6384009e-02 -5.6657940e-04]]\n",
            "\n",
            " [[ 2.7048025e-02  2.4851885e-02 -3.3533461e-03  4.8392031e-02\n",
            "   -4.2745005e-02 -2.0627165e-02  4.2925786e-02  4.7569517e-02\n",
            "   -1.8318057e-02 -2.9937578e-02]\n",
            "  [ 2.7048025e-02  2.4851885e-02 -3.3533461e-03  4.8392031e-02\n",
            "   -4.2745005e-02 -2.0627165e-02  4.2925786e-02  4.7569517e-02\n",
            "   -1.8318057e-02 -2.9937578e-02]\n",
            "  [ 2.7048025e-02  2.4851885e-02 -3.3533461e-03  4.8392031e-02\n",
            "   -4.2745005e-02 -2.0627165e-02  4.2925786e-02  4.7569517e-02\n",
            "   -1.8318057e-02 -2.9937578e-02]\n",
            "  [-1.4931522e-02  3.1075452e-02 -1.2236524e-02  5.6911707e-03\n",
            "   -3.8975835e-02 -3.1344779e-03 -3.4569453e-02 -2.0447457e-02\n",
            "   -3.3243731e-02 -2.3717606e-02]\n",
            "  [ 8.1249475e-03  4.1770723e-02 -2.8948653e-02 -2.5905967e-02\n",
            "   -3.8493492e-02 -4.5950379e-02 -2.6073480e-02  2.5564916e-03\n",
            "   -3.1690612e-02 -2.4610592e-02]\n",
            "  [-4.2523183e-02  1.2673106e-02 -8.1236586e-03 -1.9427037e-02\n",
            "   -7.2571039e-03 -1.3495158e-02  4.4617657e-02  3.5076011e-02\n",
            "    2.9661987e-02  1.6337547e-02]\n",
            "  [-1.8782247e-02 -1.3883401e-02  1.8524136e-02 -2.1216655e-02\n",
            "   -9.5279813e-03  1.3004843e-02 -4.5515623e-02 -1.3788879e-02\n",
            "   -1.0775708e-02 -3.7552249e-02]\n",
            "  [ 4.7786441e-02 -2.1523584e-02 -3.6771785e-02  3.4382176e-02\n",
            "    3.4652837e-03  1.5042428e-02  4.4684794e-02 -1.1231042e-02\n",
            "   -4.2867769e-02 -3.3542681e-02]]\n",
            "\n",
            " [[ 2.7048025e-02  2.4851885e-02 -3.3533461e-03  4.8392031e-02\n",
            "   -4.2745005e-02 -2.0627165e-02  4.2925786e-02  4.7569517e-02\n",
            "   -1.8318057e-02 -2.9937578e-02]\n",
            "  [ 2.7048025e-02  2.4851885e-02 -3.3533461e-03  4.8392031e-02\n",
            "   -4.2745005e-02 -2.0627165e-02  4.2925786e-02  4.7569517e-02\n",
            "   -1.8318057e-02 -2.9937578e-02]\n",
            "  [ 2.7048025e-02  2.4851885e-02 -3.3533461e-03  4.8392031e-02\n",
            "   -4.2745005e-02 -2.0627165e-02  4.2925786e-02  4.7569517e-02\n",
            "   -1.8318057e-02 -2.9937578e-02]\n",
            "  [ 2.7048025e-02  2.4851885e-02 -3.3533461e-03  4.8392031e-02\n",
            "   -4.2745005e-02 -2.0627165e-02  4.2925786e-02  4.7569517e-02\n",
            "   -1.8318057e-02 -2.9937578e-02]\n",
            "  [-1.5090860e-02 -8.3257928e-03 -6.1787851e-03 -1.6754232e-02\n",
            "   -1.7426126e-03 -3.9589517e-03 -3.2925952e-02 -6.0157999e-03\n",
            "    1.6032863e-02  2.6887879e-03]\n",
            "  [-4.6789527e-02  4.2404596e-02 -9.5741153e-03  3.6647093e-02\n",
            "   -4.2581186e-03 -4.4106022e-03  1.0128394e-03  4.4558179e-02\n",
            "   -5.9856288e-03 -3.2861158e-04]\n",
            "  [ 1.8125009e-02  2.0299766e-02  2.9484961e-02 -1.3734352e-02\n",
            "   -2.1920813e-02  1.3054881e-02 -4.3544918e-04  2.7575742e-02\n",
            "    2.0292018e-02  1.9928660e-02]\n",
            "  [ 1.6387630e-02 -1.7572425e-02 -3.9017975e-02  2.6442297e-03\n",
            "   -1.9095862e-02  3.4433734e-02  4.4077266e-02  1.6215626e-02\n",
            "    4.4338394e-02 -8.0693513e-05]]]\n"
          ]
        }
      ]
    },
    {
      "cell_type": "code",
      "source": [
        "embedded_docs[0]"
      ],
      "metadata": {
        "colab": {
          "base_uri": "https://localhost:8080/"
        },
        "id": "CVbcEtb9HHgf",
        "outputId": "cfc57808-4c6a-41f9-8900-460c544d1fa5"
      },
      "execution_count": 32,
      "outputs": [
        {
          "output_type": "execute_result",
          "data": {
            "text/plain": [
              "array([  0,   0,   0,   0,  92, 403, 295, 350], dtype=int32)"
            ]
          },
          "metadata": {},
          "execution_count": 32
        }
      ]
    },
    {
      "cell_type": "code",
      "source": [
        "print(model.predict(embedded_docs)[0])"
      ],
      "metadata": {
        "colab": {
          "base_uri": "https://localhost:8080/"
        },
        "id": "mZISdurTHHdl",
        "outputId": "299a61e6-031a-475b-dc12-f43d5f1b8da3"
      },
      "execution_count": 33,
      "outputs": [
        {
          "output_type": "stream",
          "name": "stdout",
          "text": [
            "\u001b[1m1/1\u001b[0m \u001b[32m━━━━━━━━━━━━━━━━━━━━\u001b[0m\u001b[37m\u001b[0m \u001b[1m0s\u001b[0m 30ms/step\n",
            "[[ 0.02704803  0.02485188 -0.00335335  0.04839203 -0.04274501 -0.02062717\n",
            "   0.04292579  0.04756952 -0.01831806 -0.02993758]\n",
            " [ 0.02704803  0.02485188 -0.00335335  0.04839203 -0.04274501 -0.02062717\n",
            "   0.04292579  0.04756952 -0.01831806 -0.02993758]\n",
            " [ 0.02704803  0.02485188 -0.00335335  0.04839203 -0.04274501 -0.02062717\n",
            "   0.04292579  0.04756952 -0.01831806 -0.02993758]\n",
            " [ 0.02704803  0.02485188 -0.00335335  0.04839203 -0.04274501 -0.02062717\n",
            "   0.04292579  0.04756952 -0.01831806 -0.02993758]\n",
            " [ 0.00812495  0.04177072 -0.02894865 -0.02590597 -0.03849349 -0.04595038\n",
            "  -0.02607348  0.00255649 -0.03169061 -0.02461059]\n",
            " [ 0.02247384 -0.03657117  0.04836503  0.00557498  0.02922395 -0.02016803\n",
            "   0.00303533  0.04065808 -0.02931255 -0.00246736]\n",
            " [-0.01878225 -0.0138834   0.01852414 -0.02121666 -0.00952798  0.01300484\n",
            "  -0.04551562 -0.01378888 -0.01077571 -0.03755225]\n",
            " [ 0.03321061  0.02693105 -0.03632448  0.02304468  0.02674022  0.04240197\n",
            "   0.02963612 -0.01244531  0.01766912 -0.04184695]]\n"
          ]
        }
      ]
    },
    {
      "cell_type": "code",
      "source": [],
      "metadata": {
        "id": "qXGjnZTYLjIr"
      },
      "execution_count": null,
      "outputs": []
    },
    {
      "cell_type": "code",
      "source": [],
      "metadata": {
        "id": "sp4xDevrDtAN"
      },
      "execution_count": null,
      "outputs": []
    }
  ]
}